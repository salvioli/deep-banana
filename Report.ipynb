{
 "cells": [
  {
   "cell_type": "markdown",
   "metadata": {
    "collapsed": true
   },
   "source": [
    "# Navigation project report"
   ]
  },
  {
   "cell_type": "code",
   "execution_count": 1,
   "metadata": {},
   "outputs": [
    {
     "name": "stdout",
     "output_type": "stream",
     "text": [
      "Requirement already satisfied: unityagents in /home/ammi/Development/deep-monkey/lib/python3.6/site-packages (0.4.0)\n",
      "Requirement already satisfied: matplotlib in /home/ammi/Development/deep-monkey/lib/python3.6/site-packages (from unityagents) (3.0.2)\n",
      "Requirement already satisfied: grpcio==1.11.0 in /home/ammi/Development/deep-monkey/lib/python3.6/site-packages (from unityagents) (1.11.0)\n",
      "Requirement already satisfied: numpy>=1.11.0 in /home/ammi/Development/deep-monkey/lib/python3.6/site-packages (from unityagents) (1.15.4)\n",
      "Requirement already satisfied: tensorflow==1.7.1 in /home/ammi/Development/deep-monkey/lib/python3.6/site-packages (from unityagents) (1.7.1)\n",
      "Requirement already satisfied: pyyaml in /home/ammi/Development/deep-monkey/lib/python3.6/site-packages (from unityagents) (3.13)\n",
      "Requirement already satisfied: pytest>=3.2.2 in /home/ammi/Development/deep-monkey/lib/python3.6/site-packages (from unityagents) (4.0.2)\n",
      "Requirement already satisfied: docopt in /home/ammi/Development/deep-monkey/lib/python3.6/site-packages (from unityagents) (0.6.2)\n",
      "Requirement already satisfied: Pillow>=4.2.1 in /home/ammi/Development/deep-monkey/lib/python3.6/site-packages (from unityagents) (5.3.0)\n",
      "Requirement already satisfied: protobuf==3.5.2 in /home/ammi/Development/deep-monkey/lib/python3.6/site-packages (from unityagents) (3.5.2)\n",
      "Requirement already satisfied: jupyter in /home/ammi/Development/deep-monkey/lib/python3.6/site-packages (from unityagents) (1.0.0)\n",
      "Requirement already satisfied: python-dateutil>=2.1 in /home/ammi/Development/deep-monkey/lib/python3.6/site-packages (from matplotlib->unityagents) (2.7.5)\n",
      "Requirement already satisfied: kiwisolver>=1.0.1 in /home/ammi/Development/deep-monkey/lib/python3.6/site-packages (from matplotlib->unityagents) (1.0.1)\n",
      "Requirement already satisfied: cycler>=0.10 in /home/ammi/Development/deep-monkey/lib/python3.6/site-packages (from matplotlib->unityagents) (0.10.0)\n",
      "Requirement already satisfied: pyparsing!=2.0.4,!=2.1.2,!=2.1.6,>=2.0.1 in /home/ammi/Development/deep-monkey/lib/python3.6/site-packages (from matplotlib->unityagents) (2.3.0)\n",
      "Requirement already satisfied: six>=1.5.2 in /home/ammi/Development/deep-monkey/lib/python3.6/site-packages (from grpcio==1.11.0->unityagents) (1.12.0)\n",
      "Requirement already satisfied: absl-py>=0.1.6 in /home/ammi/Development/deep-monkey/lib/python3.6/site-packages (from tensorflow==1.7.1->unityagents) (0.6.1)\n",
      "Requirement already satisfied: termcolor>=1.1.0 in /home/ammi/Development/deep-monkey/lib/python3.6/site-packages (from tensorflow==1.7.1->unityagents) (1.1.0)\n",
      "Requirement already satisfied: astor>=0.6.0 in /home/ammi/Development/deep-monkey/lib/python3.6/site-packages (from tensorflow==1.7.1->unityagents) (0.7.1)\n",
      "Requirement already satisfied: tensorboard<1.8.0,>=1.7.0 in /home/ammi/Development/deep-monkey/lib/python3.6/site-packages (from tensorflow==1.7.1->unityagents) (1.7.0)\n",
      "Requirement already satisfied: gast>=0.2.0 in /home/ammi/Development/deep-monkey/lib/python3.6/site-packages (from tensorflow==1.7.1->unityagents) (0.2.0)\n",
      "Requirement already satisfied: wheel>=0.26 in /home/ammi/Development/deep-monkey/lib/python3.6/site-packages (from tensorflow==1.7.1->unityagents) (0.32.3)\n",
      "Requirement already satisfied: attrs>=17.4.0 in /home/ammi/Development/deep-monkey/lib/python3.6/site-packages (from pytest>=3.2.2->unityagents) (18.2.0)\n",
      "Requirement already satisfied: py>=1.5.0 in /home/ammi/Development/deep-monkey/lib/python3.6/site-packages (from pytest>=3.2.2->unityagents) (1.7.0)\n",
      "Requirement already satisfied: atomicwrites>=1.0 in /home/ammi/Development/deep-monkey/lib/python3.6/site-packages (from pytest>=3.2.2->unityagents) (1.2.1)\n",
      "Requirement already satisfied: more-itertools>=4.0.0 in /home/ammi/Development/deep-monkey/lib/python3.6/site-packages (from pytest>=3.2.2->unityagents) (4.3.0)\n",
      "Requirement already satisfied: setuptools in /home/ammi/Development/deep-monkey/lib/python3.6/site-packages/setuptools-28.8.0-py3.6.egg (from pytest>=3.2.2->unityagents) (28.8.0)\n",
      "Requirement already satisfied: pluggy>=0.7 in /home/ammi/Development/deep-monkey/lib/python3.6/site-packages (from pytest>=3.2.2->unityagents) (0.8.0)\n",
      "Requirement already satisfied: ipywidgets in /home/ammi/Development/deep-monkey/lib/python3.6/site-packages (from jupyter->unityagents) (7.4.2)\n",
      "Requirement already satisfied: qtconsole in /home/ammi/Development/deep-monkey/lib/python3.6/site-packages (from jupyter->unityagents) (4.4.3)\n",
      "Requirement already satisfied: nbconvert in /home/ammi/Development/deep-monkey/lib/python3.6/site-packages (from jupyter->unityagents) (5.4.0)\n",
      "Requirement already satisfied: ipykernel in /home/ammi/Development/deep-monkey/lib/python3.6/site-packages (from jupyter->unityagents) (5.1.0)\n",
      "Requirement already satisfied: notebook in /home/ammi/Development/deep-monkey/lib/python3.6/site-packages (from jupyter->unityagents) (5.7.3)\n",
      "Requirement already satisfied: jupyter-console in /home/ammi/Development/deep-monkey/lib/python3.6/site-packages (from jupyter->unityagents) (6.0.0)\n",
      "Requirement already satisfied: markdown>=2.6.8 in /home/ammi/Development/deep-monkey/lib/python3.6/site-packages (from tensorboard<1.8.0,>=1.7.0->tensorflow==1.7.1->unityagents) (3.0.1)\n",
      "Requirement already satisfied: bleach==1.5.0 in /home/ammi/Development/deep-monkey/lib/python3.6/site-packages (from tensorboard<1.8.0,>=1.7.0->tensorflow==1.7.1->unityagents) (1.5.0)\n",
      "Requirement already satisfied: html5lib==0.9999999 in /home/ammi/Development/deep-monkey/lib/python3.6/site-packages (from tensorboard<1.8.0,>=1.7.0->tensorflow==1.7.1->unityagents) (0.9999999)\n",
      "Requirement already satisfied: werkzeug>=0.11.10 in /home/ammi/Development/deep-monkey/lib/python3.6/site-packages (from tensorboard<1.8.0,>=1.7.0->tensorflow==1.7.1->unityagents) (0.14.1)\n",
      "Requirement already satisfied: nbformat>=4.2.0 in /home/ammi/Development/deep-monkey/lib/python3.6/site-packages (from ipywidgets->jupyter->unityagents) (4.4.0)\n",
      "Requirement already satisfied: ipython>=4.0.0; python_version >= \"3.3\" in /home/ammi/Development/deep-monkey/lib/python3.6/site-packages (from ipywidgets->jupyter->unityagents) (5.0.0)\n",
      "Requirement already satisfied: widgetsnbextension~=3.4.0 in /home/ammi/Development/deep-monkey/lib/python3.6/site-packages (from ipywidgets->jupyter->unityagents) (3.4.2)\n",
      "Requirement already satisfied: traitlets>=4.3.1 in /home/ammi/Development/deep-monkey/lib/python3.6/site-packages (from ipywidgets->jupyter->unityagents) (4.3.2)\n",
      "Requirement already satisfied: pygments in /home/ammi/Development/deep-monkey/lib/python3.6/site-packages (from qtconsole->jupyter->unityagents) (2.3.0)\n",
      "Requirement already satisfied: jupyter-client>=4.1 in /home/ammi/Development/deep-monkey/lib/python3.6/site-packages (from qtconsole->jupyter->unityagents) (5.2.4)\n",
      "Requirement already satisfied: jupyter-core in /home/ammi/Development/deep-monkey/lib/python3.6/site-packages (from qtconsole->jupyter->unityagents) (4.4.0)\n",
      "Requirement already satisfied: ipython-genutils in /home/ammi/Development/deep-monkey/lib/python3.6/site-packages (from qtconsole->jupyter->unityagents) (0.2.0)\n",
      "Requirement already satisfied: mistune>=0.8.1 in /home/ammi/Development/deep-monkey/lib/python3.6/site-packages (from nbconvert->jupyter->unityagents) (0.8.4)\n",
      "Requirement already satisfied: pandocfilters>=1.4.1 in /home/ammi/Development/deep-monkey/lib/python3.6/site-packages (from nbconvert->jupyter->unityagents) (1.4.2)\n",
      "Requirement already satisfied: defusedxml in /home/ammi/Development/deep-monkey/lib/python3.6/site-packages (from nbconvert->jupyter->unityagents) (0.5.0)\n",
      "Requirement already satisfied: jinja2 in /home/ammi/Development/deep-monkey/lib/python3.6/site-packages (from nbconvert->jupyter->unityagents) (2.10)\n",
      "Requirement already satisfied: entrypoints>=0.2.2 in /home/ammi/Development/deep-monkey/lib/python3.6/site-packages (from nbconvert->jupyter->unityagents) (0.2.3)\n",
      "Requirement already satisfied: testpath in /home/ammi/Development/deep-monkey/lib/python3.6/site-packages (from nbconvert->jupyter->unityagents) (0.4.2)\n",
      "Requirement already satisfied: tornado>=4.2 in /home/ammi/Development/deep-monkey/lib/python3.6/site-packages (from ipykernel->jupyter->unityagents) (5.1.1)\n",
      "Requirement already satisfied: terminado>=0.8.1 in /home/ammi/Development/deep-monkey/lib/python3.6/site-packages (from notebook->jupyter->unityagents) (0.8.1)\n",
      "Requirement already satisfied: pyzmq>=17 in /home/ammi/Development/deep-monkey/lib/python3.6/site-packages (from notebook->jupyter->unityagents) (17.1.2)\n",
      "Requirement already satisfied: prometheus-client in /home/ammi/Development/deep-monkey/lib/python3.6/site-packages (from notebook->jupyter->unityagents) (0.5.0)\n",
      "Requirement already satisfied: Send2Trash in /home/ammi/Development/deep-monkey/lib/python3.6/site-packages (from notebook->jupyter->unityagents) (1.5.0)\n"
     ]
    },
    {
     "name": "stdout",
     "output_type": "stream",
     "text": [
      "Collecting prompt-toolkit<2.1.0,>=2.0.0 (from jupyter-console->jupyter->unityagents)\n",
      "  Using cached https://files.pythonhosted.org/packages/d1/e6/adb3be5576f5d27c6faa33f1e9fea8fe5dbd9351db12148de948507e352c/prompt_toolkit-2.0.7-py3-none-any.whl\n",
      "Requirement already satisfied: jsonschema!=2.5.0,>=2.4 in /home/ammi/Development/deep-monkey/lib/python3.6/site-packages (from nbformat>=4.2.0->ipywidgets->jupyter->unityagents) (2.6.0)\n",
      "Requirement already satisfied: pexpect; sys_platform != \"win32\" in /home/ammi/Development/deep-monkey/lib/python3.6/site-packages (from ipython>=4.0.0; python_version >= \"3.3\"->ipywidgets->jupyter->unityagents) (4.6.0)\n",
      "Requirement already satisfied: simplegeneric>0.8 in /home/ammi/Development/deep-monkey/lib/python3.6/site-packages (from ipython>=4.0.0; python_version >= \"3.3\"->ipywidgets->jupyter->unityagents) (0.8.1)\n",
      "Requirement already satisfied: pickleshare in /home/ammi/Development/deep-monkey/lib/python3.6/site-packages (from ipython>=4.0.0; python_version >= \"3.3\"->ipywidgets->jupyter->unityagents) (0.7.5)\n",
      "Requirement already satisfied: decorator in /home/ammi/Development/deep-monkey/lib/python3.6/site-packages (from ipython>=4.0.0; python_version >= \"3.3\"->ipywidgets->jupyter->unityagents) (4.3.0)\n",
      "Requirement already satisfied: MarkupSafe>=0.23 in /home/ammi/Development/deep-monkey/lib/python3.6/site-packages (from jinja2->nbconvert->jupyter->unityagents) (1.1.0)\n",
      "Requirement already satisfied: ptyprocess; os_name != \"nt\" in /home/ammi/Development/deep-monkey/lib/python3.6/site-packages (from terminado>=0.8.1->notebook->jupyter->unityagents) (0.6.0)\n",
      "Requirement already satisfied: wcwidth in /home/ammi/Development/deep-monkey/lib/python3.6/site-packages (from prompt-toolkit<2.1.0,>=2.0.0->jupyter-console->jupyter->unityagents) (0.1.7)\n",
      "\u001b[31mipython 5.0.0 has requirement prompt-toolkit<2.0.0,>=1.0.3, but you'll have prompt-toolkit 2.0.7 which is incompatible.\u001b[0m\n",
      "Installing collected packages: prompt-toolkit\n",
      "  Found existing installation: prompt-toolkit 1.0.15\n",
      "    Uninstalling prompt-toolkit-1.0.15:\n",
      "      Successfully uninstalled prompt-toolkit-1.0.15\n",
      "Successfully installed prompt-toolkit-2.0.7\n",
      "Requirement already satisfied: torch in /home/ammi/Development/deep-monkey/lib/python3.6/site-packages (1.0.0)\n",
      "Requirement already satisfied: numpy in /home/ammi/Development/deep-monkey/lib/python3.6/site-packages (1.15.4)\n",
      "Requirement already satisfied: matplotlib in /home/ammi/Development/deep-monkey/lib/python3.6/site-packages (3.0.2)\n",
      "Requirement already satisfied: cycler>=0.10 in /home/ammi/Development/deep-monkey/lib/python3.6/site-packages (from matplotlib) (0.10.0)\n",
      "Requirement already satisfied: numpy>=1.10.0 in /home/ammi/Development/deep-monkey/lib/python3.6/site-packages (from matplotlib) (1.15.4)\n",
      "Requirement already satisfied: kiwisolver>=1.0.1 in /home/ammi/Development/deep-monkey/lib/python3.6/site-packages (from matplotlib) (1.0.1)\n",
      "Requirement already satisfied: pyparsing!=2.0.4,!=2.1.2,!=2.1.6,>=2.0.1 in /home/ammi/Development/deep-monkey/lib/python3.6/site-packages (from matplotlib) (2.3.0)\n",
      "Requirement already satisfied: python-dateutil>=2.1 in /home/ammi/Development/deep-monkey/lib/python3.6/site-packages (from matplotlib) (2.7.5)\n",
      "Requirement already satisfied: six in /home/ammi/Development/deep-monkey/lib/python3.6/site-packages (from cycler>=0.10->matplotlib) (1.12.0)\n",
      "Requirement already satisfied: setuptools in /home/ammi/Development/deep-monkey/lib/python3.6/site-packages/setuptools-28.8.0-py3.6.egg (from kiwisolver>=1.0.1->matplotlib) (28.8.0)\n",
      "Collecting prompt-toolkit==1.0.15\n",
      "  Using cached https://files.pythonhosted.org/packages/04/d1/c6616dd03701e7e2073f06d5c3b41b012256e42b72561f16a7bd86dd7b43/prompt_toolkit-1.0.15-py3-none-any.whl\n",
      "Requirement already satisfied: wcwidth in /home/ammi/Development/deep-monkey/lib/python3.6/site-packages (from prompt-toolkit==1.0.15) (0.1.7)\n",
      "Requirement already satisfied: six>=1.9.0 in /home/ammi/Development/deep-monkey/lib/python3.6/site-packages (from prompt-toolkit==1.0.15) (1.12.0)\n",
      "\u001b[31mjupyter-console 6.0.0 has requirement prompt-toolkit<2.1.0,>=2.0.0, but you'll have prompt-toolkit 1.0.15 which is incompatible.\u001b[0m\n",
      "Installing collected packages: prompt-toolkit\n",
      "  Found existing installation: prompt-toolkit 2.0.7\n",
      "    Uninstalling prompt-toolkit-2.0.7:\n",
      "      Successfully uninstalled prompt-toolkit-2.0.7\n",
      "Successfully installed prompt-toolkit-1.0.15\n"
     ]
    }
   ],
   "source": [
    "!python -m pip install unityagents\n",
    "!python -m pip install torch\n",
    "!python -m pip install numpy\n",
    "!python -m pip install matplotlib\n",
    "!python -m pip install 'prompt-toolkit==1.0.15'"
   ]
  },
  {
   "cell_type": "code",
   "execution_count": 2,
   "metadata": {},
   "outputs": [],
   "source": [
    "from unityagents import UnityEnvironment\n",
    "import numpy as np\n",
    "\n",
    "# import model\n",
    "from agent import Agent, DQN, DoubleDQN\n",
    "import torch\n",
    "from deep_monkey import *\n",
    "\n",
    "import matplotlib.pyplot as plt\n",
    "%matplotlib inline\n",
    "\n",
    "import glob\n",
    "import os"
   ]
  },
  {
   "cell_type": "markdown",
   "metadata": {},
   "source": [
    "# Setup environment\n",
    "UnityEnvironment contains several brains which control the actions of the agents. In this case we are interested only in the first brain as there is only one agent "
   ]
  },
  {
   "cell_type": "code",
   "execution_count": 3,
   "metadata": {
    "scrolled": true
   },
   "outputs": [
    {
     "name": "stderr",
     "output_type": "stream",
     "text": [
      "INFO:unityagents:\n",
      "'Academy' started successfully!\n",
      "Unity Academy name: Academy\n",
      "        Number of Brains: 1\n",
      "        Number of External Brains : 1\n",
      "        Lesson number : 0\n",
      "        Reset Parameters :\n",
      "\t\t\n",
      "Unity brain name: BananaBrain\n",
      "        Number of Visual Observations (per agent): 0\n",
      "        Vector Observation space type: continuous\n",
      "        Vector Observation space size (per agent): 37\n",
      "        Number of stacked Vector Observation: 1\n",
      "        Vector Action space type: discrete\n",
      "        Vector Action space size (per agent): 4\n",
      "        Vector Action descriptions: , , , \n"
     ]
    }
   ],
   "source": [
    "env = UnityEnvironment(file_name=\"../bin/Banana_Linux/Banana.x86_64\")\n",
    "\n",
    "# Extract brain object and its name,\n",
    "# useful for obtaining feedback from the environment\n",
    "brain_name = env.brain_names[0]\n",
    "brain = env.brains[brain_name]"
   ]
  },
  {
   "cell_type": "markdown",
   "metadata": {},
   "source": [
    "## Training a vanilla DQN agent\n",
    "The model we are going to train is a vanilla DQN model. The following hyperparameters were chosen for the algorithm:\n",
    "```\n",
    "- gamma           = 0.99\n",
    "- tau             = 1e-3\n",
    "- learning_rate   = 1e-3\n",
    "- learning_period = 4\n",
    "- epsilon_max     = 1\n",
    "- epsilon_min     = 0.01\n",
    "```\n",
    "The two neural networks used to estimate the q function have the following hyperparameters:\n",
    "- 2 fully connected layers\n",
    "- 64 units per layer\n"
   ]
  },
  {
   "cell_type": "code",
   "execution_count": 4,
   "metadata": {},
   "outputs": [
    {
     "name": "stdout",
     "output_type": "stream",
     "text": [
      "Episode 100\tAverage Score: 1.31\n",
      "Episode 200\tAverage Score: 5.22\n",
      "Episode 300\tAverage Score: 9.27\n",
      "Episode 400\tAverage Score: 10.00\n",
      "Episode 500\tAverage Score: 11.98\n",
      "Episode 575\tAverage Score: 13.01\n",
      "Environment solved in 475 episodes!\tAverage Score: 13.01\n"
     ]
    }
   ],
   "source": [
    "# reset the environment\n",
    "state = env.reset(train_mode=True)\n",
    "observation = state[brain_name].vector_observations[0]\n",
    "\n",
    "# create the agent\n",
    "agent = DQN(state_size = len(observation), \n",
    "            action_size = brain.vector_action_space_size,\n",
    "            seed = 0)\n",
    "\n",
    "# train the agent\n",
    "agent, episodes_n, avg_score, scores = train_agent(agent,env,stop_avg_score=13)\n"
   ]
  },
  {
   "cell_type": "markdown",
   "metadata": {},
   "source": [
    "Save agent checkpoint, plot the evolution of the average score during training and save the graph to file."
   ]
  },
  {
   "cell_type": "code",
   "execution_count": 5,
   "metadata": {},
   "outputs": [
    {
     "data": {
      "image/png": "[encoded data removed]",
      "text/plain": [
       "<Figure size 432x288 with 1 Axes>"
      ]
     },
     "metadata": {
      "needs_background": "light"
     },
     "output_type": "display_data"
    }
   ],
   "source": [
    "tag = generate_filename_tag(agent, episodes_n, avg_score)\n",
    "checkpoint_filename = save_checkpoint(agent, tag)\n",
    "fig = plot_score(scores)\n",
    "fig.savefig(\"plots/training_plot_\" + tag + \".pdf\")\n"
   ]
  },
  {
   "cell_type": "markdown",
   "metadata": {},
   "source": [
    "## Trained vanilla DQN demo"
   ]
  },
  {
   "cell_type": "code",
   "execution_count": 6,
   "metadata": {},
   "outputs": [
    {
     "name": "stdout",
     "output_type": "stream",
     "text": [
      "Score: 4.0\n"
     ]
    }
   ],
   "source": [
    "# reset the environment\n",
    "state = env.reset(train_mode=False)\n",
    "observation = state[brain_name].vector_observations[0]\n",
    "\n",
    "# load the weights from file\n",
    "agent = Agent(state_size = len(observation), \n",
    "              action_size = brain.vector_action_space_size,\n",
    "              seed = 0,\n",
    "              checkpoint_filename=checkpoint_filename)\n",
    "\n",
    "_ = demo_agent(agent, env)"
   ]
  },
  {
   "cell_type": "markdown",
   "metadata": {},
   "source": [
    "## Training a DoubleDQN agent\n",
    "In this section we will repeat the same sequence but we will train a DoubleDQN agent, save its weights and generate a score plot with training values."
   ]
  },
  {
   "cell_type": "code",
   "execution_count": 7,
   "metadata": {},
   "outputs": [
    {
     "name": "stdout",
     "output_type": "stream",
     "text": [
      "Episode 100\tAverage Score: 0.91\n",
      "Episode 200\tAverage Score: 4.65\n",
      "Episode 300\tAverage Score: 8.59\n",
      "Episode 400\tAverage Score: 10.44\n",
      "Episode 489\tAverage Score: 13.02\n",
      "Environment solved in 389 episodes!\tAverage Score: 13.02\n"
     ]
    },
    {
     "data": {
      "image/png": "[encoded data removed]",
      "text/plain": [
       "<Figure size 432x288 with 1 Axes>"
      ]
     },
     "metadata": {
      "needs_background": "light"
     },
     "output_type": "display_data"
    }
   ],
   "source": [
    "# reset the environment\n",
    "state = env.reset(train_mode=True)\n",
    "observation = state[brain_name].vector_observations[0]\n",
    "\n",
    "# create the agent\n",
    "agent = DoubleDQN(state_size = len(observation), \n",
    "            action_size = brain.vector_action_space_size,\n",
    "            seed = 0)\n",
    "\n",
    "# train the agent\n",
    "agent, episodes_n, avg_score, scores = train_agent(agent,env,stop_avg_score=13)\n",
    "\n",
    "# save checkpoint, plot scores and save plot\n",
    "tag = generate_filename_tag(agent, episodes_n, avg_score)\n",
    "checkpoint_filename = save_checkpoint(agent, tag)\n",
    "fig = plot_score(scores)\n",
    "fig.savefig(\"plots/training_plot_\" + tag + \".pdf\")"
   ]
  },
  {
   "cell_type": "markdown",
   "metadata": {},
   "source": [
    "## Trained DoubleDQN demo"
   ]
  },
  {
   "cell_type": "code",
   "execution_count": 8,
   "metadata": {},
   "outputs": [
    {
     "name": "stdout",
     "output_type": "stream",
     "text": [
      "Score: 17.0\n"
     ]
    }
   ],
   "source": [
    "# reset the environment\n",
    "state = env.reset(train_mode=False)\n",
    "observation = state[brain_name].vector_observations[0]\n",
    "\n",
    "# load the weights from file\n",
    "agent = Agent(state_size = len(observation), \n",
    "              action_size = brain.vector_action_space_size,\n",
    "              seed = 0,\n",
    "              checkpoint_filename=checkpoint_filename)\n",
    "\n",
    "_ = demo_agent(agent, env)"
   ]
  },
  {
   "cell_type": "code",
   "execution_count": null,
   "metadata": {},
   "outputs": [],
   "source": [
    "env.close()"
   ]
  },
  {
   "cell_type": "code",
   "execution_count": null,
   "metadata": {},
   "outputs": [],
   "source": [
    "### Future development\n",
    "Agent's learning performances (number of episodes to solve the task) should be improved implementing the following:\n",
    "- Prioritized experience replay\n",
    "- Dueling DQN\n",
    "\n",
    "In addition, the same task should be solved starting from raw pixel observations."
   ]
  }
 ],
 "metadata": {
  "kernelspec": {
   "display_name": "Python 3",
   "language": "python",
   "name": "python3"
  },
  "language_info": {
   "codemirror_mode": {
    "name": "ipython",
    "version": 3
   },
   "file_extension": ".py",
   "mimetype": "text/x-python",
   "name": "python",
   "nbconvert_exporter": "python",
   "pygments_lexer": "ipython3",
   "version": "3.6.7"
  }
 },
 "nbformat": 4,
 "nbformat_minor": 1
}
